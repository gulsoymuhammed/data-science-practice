{
  "cells": [
    {
      "cell_type": "markdown",
      "metadata": {
        "id": "92958k01bb5v"
      },
      "source": [
        "MUHAMMED GÜLSOY <br>\n",
        "2200000005"
      ]
    },
    {
      "cell_type": "code",
      "execution_count": 2,
      "metadata": {
        "id": "Wz6MBxC9KAo1"
      },
      "outputs": [],
      "source": [
        "import pandas as pd\n",
        "import numpy as np\n",
        "import matplotlib.pyplot as plt"
      ]
    },
    {
      "cell_type": "code",
      "execution_count": 3,
      "metadata": {
        "id": "DNLNeVxnKNrw"
      },
      "outputs": [],
      "source": [
        "df=pd.read_csv(\"/dataset/kindle_data-v2-1.csv\")"
      ]
    },
    {
      "cell_type": "code",
      "execution_count": 4,
      "metadata": {
        "colab": {
          "base_uri": "https://localhost:8080/",
          "height": 170
        },
        "id": "JiJBcZeOK9Pp",
        "outputId": "c25deb68-7856-4c42-aaa0-157e7b3c336f"
      },
      "outputs": [
        {
          "data": {
            "text/html": [
              "\n",
              "  <div id=\"df-e9a90f9a-e29e-4613-ac8d-cda05a467807\" class=\"colab-df-container\">\n",
              "    <div>\n",
              "<style scoped>\n",
              "    .dataframe tbody tr th:only-of-type {\n",
              "        vertical-align: middle;\n",
              "    }\n",
              "\n",
              "    .dataframe tbody tr th {\n",
              "        vertical-align: top;\n",
              "    }\n",
              "\n",
              "    .dataframe thead th {\n",
              "        text-align: right;\n",
              "    }\n",
              "</style>\n",
              "<table border=\"1\" class=\"dataframe\">\n",
              "  <thead>\n",
              "    <tr style=\"text-align: right;\">\n",
              "      <th></th>\n",
              "      <th>asin</th>\n",
              "      <th>title</th>\n",
              "      <th>author</th>\n",
              "      <th>soldBy</th>\n",
              "      <th>imgUrl</th>\n",
              "      <th>productURL</th>\n",
              "      <th>stars</th>\n",
              "      <th>reviews</th>\n",
              "      <th>price</th>\n",
              "      <th>isKindleUnlimited</th>\n",
              "      <th>category_id</th>\n",
              "      <th>isBestSeller</th>\n",
              "      <th>isEditorsPick</th>\n",
              "      <th>isGoodReadsChoice</th>\n",
              "      <th>publishedDate</th>\n",
              "      <th>category_name</th>\n",
              "    </tr>\n",
              "  </thead>\n",
              "  <tbody>\n",
              "    <tr>\n",
              "      <th>0</th>\n",
              "      <td>B00TZE87S4</td>\n",
              "      <td>Adult Children of Emotionally Immature Parents...</td>\n",
              "      <td>Lindsay C. Gibson</td>\n",
              "      <td>Amazon.com Services LLC</td>\n",
              "      <td>https://m.media-amazon.com/images/I/713KZTsaYp...</td>\n",
              "      <td>https://www.amazon.com/dp/B00TZE87S4</td>\n",
              "      <td>4.8</td>\n",
              "      <td>0</td>\n",
              "      <td>9.99</td>\n",
              "      <td>False</td>\n",
              "      <td>6</td>\n",
              "      <td>True</td>\n",
              "      <td>False</td>\n",
              "      <td>False</td>\n",
              "      <td>2015-06-01</td>\n",
              "      <td>Parenting &amp; Relationships</td>\n",
              "    </tr>\n",
              "  </tbody>\n",
              "</table>\n",
              "</div>\n",
              "    <div class=\"colab-df-buttons\">\n",
              "\n",
              "  <div class=\"colab-df-container\">\n",
              "    <button class=\"colab-df-convert\" onclick=\"convertToInteractive('df-e9a90f9a-e29e-4613-ac8d-cda05a467807')\"\n",
              "            title=\"Convert this dataframe to an interactive table.\"\n",
              "            style=\"display:none;\">\n",
              "\n",
              "  <svg xmlns=\"http://www.w3.org/2000/svg\" height=\"24px\" viewBox=\"0 -960 960 960\">\n",
              "    <path d=\"M120-120v-720h720v720H120Zm60-500h600v-160H180v160Zm220 220h160v-160H400v160Zm0 220h160v-160H400v160ZM180-400h160v-160H180v160Zm440 0h160v-160H620v160ZM180-180h160v-160H180v160Zm440 0h160v-160H620v160Z\"/>\n",
              "  </svg>\n",
              "    </button>\n",
              "\n",
              "  <style>\n",
              "    .colab-df-container {\n",
              "      display:flex;\n",
              "      gap: 12px;\n",
              "    }\n",
              "\n",
              "    .colab-df-convert {\n",
              "      background-color: #E8F0FE;\n",
              "      border: none;\n",
              "      border-radius: 50%;\n",
              "      cursor: pointer;\n",
              "      display: none;\n",
              "      fill: #1967D2;\n",
              "      height: 32px;\n",
              "      padding: 0 0 0 0;\n",
              "      width: 32px;\n",
              "    }\n",
              "\n",
              "    .colab-df-convert:hover {\n",
              "      background-color: #E2EBFA;\n",
              "      box-shadow: 0px 1px 2px rgba(60, 64, 67, 0.3), 0px 1px 3px 1px rgba(60, 64, 67, 0.15);\n",
              "      fill: #174EA6;\n",
              "    }\n",
              "\n",
              "    .colab-df-buttons div {\n",
              "      margin-bottom: 4px;\n",
              "    }\n",
              "\n",
              "    [theme=dark] .colab-df-convert {\n",
              "      background-color: #3B4455;\n",
              "      fill: #D2E3FC;\n",
              "    }\n",
              "\n",
              "    [theme=dark] .colab-df-convert:hover {\n",
              "      background-color: #434B5C;\n",
              "      box-shadow: 0px 1px 3px 1px rgba(0, 0, 0, 0.15);\n",
              "      filter: drop-shadow(0px 1px 2px rgba(0, 0, 0, 0.3));\n",
              "      fill: #FFFFFF;\n",
              "    }\n",
              "  </style>\n",
              "\n",
              "    <script>\n",
              "      const buttonEl =\n",
              "        document.querySelector('#df-e9a90f9a-e29e-4613-ac8d-cda05a467807 button.colab-df-convert');\n",
              "      buttonEl.style.display =\n",
              "        google.colab.kernel.accessAllowed ? 'block' : 'none';\n",
              "\n",
              "      async function convertToInteractive(key) {\n",
              "        const element = document.querySelector('#df-e9a90f9a-e29e-4613-ac8d-cda05a467807');\n",
              "        const dataTable =\n",
              "          await google.colab.kernel.invokeFunction('convertToInteractive',\n",
              "                                                    [key], {});\n",
              "        if (!dataTable) return;\n",
              "\n",
              "        const docLinkHtml = 'Like what you see? Visit the ' +\n",
              "          '<a target=\"_blank\" href=https://colab.research.google.com/notebooks/data_table.ipynb>data table notebook</a>'\n",
              "          + ' to learn more about interactive tables.';\n",
              "        element.innerHTML = '';\n",
              "        dataTable['output_type'] = 'display_data';\n",
              "        await google.colab.output.renderOutput(dataTable, element);\n",
              "        const docLink = document.createElement('div');\n",
              "        docLink.innerHTML = docLinkHtml;\n",
              "        element.appendChild(docLink);\n",
              "      }\n",
              "    </script>\n",
              "  </div>\n",
              "\n",
              "    </div>\n",
              "  </div>\n"
            ],
            "text/plain": [
              "         asin                                              title  \\\n",
              "0  B00TZE87S4  Adult Children of Emotionally Immature Parents...   \n",
              "\n",
              "              author                   soldBy  \\\n",
              "0  Lindsay C. Gibson  Amazon.com Services LLC   \n",
              "\n",
              "                                              imgUrl  \\\n",
              "0  https://m.media-amazon.com/images/I/713KZTsaYp...   \n",
              "\n",
              "                             productURL  stars  reviews  price  \\\n",
              "0  https://www.amazon.com/dp/B00TZE87S4    4.8        0   9.99   \n",
              "\n",
              "   isKindleUnlimited  category_id  isBestSeller  isEditorsPick  \\\n",
              "0              False            6          True          False   \n",
              "\n",
              "   isGoodReadsChoice publishedDate              category_name  \n",
              "0              False    2015-06-01  Parenting & Relationships  "
            ]
          },
          "execution_count": 4,
          "metadata": {},
          "output_type": "execute_result"
        }
      ],
      "source": [
        "df.head(1)"
      ]
    },
    {
      "cell_type": "code",
      "execution_count": 9,
      "metadata": {
        "colab": {
          "base_uri": "https://localhost:8080/"
        },
        "id": "DXFiQXxSLaUb",
        "outputId": "47bfd45e-374c-4271-c5b2-6eca864cf60b"
      },
      "outputs": [
        {
          "data": {
            "text/plain": [
              "28874     618227\n",
              "28628     296710\n",
              "28641     289251\n",
              "30579     272608\n",
              "28634     242575\n",
              "           ...  \n",
              "21562          0\n",
              "21563          0\n",
              "21564          0\n",
              "21565          0\n",
              "133101         0\n",
              "Name: reviews, Length: 133102, dtype: int64"
            ]
          },
          "execution_count": 9,
          "metadata": {},
          "output_type": "execute_result"
        }
      ],
      "source": [
        "df[\"reviews\"].sort_values(ascending=False)"
      ]
    },
    {
      "cell_type": "markdown",
      "metadata": {
        "id": "4tiPubt_L5wM"
      },
      "source": [
        "# QUESTION 1-A<br>\n",
        "> Filter the dataset by taking the rows in which number of ‘reviews’ are greater than 1 and less then 201. Then save it.<br>\n",
        "In this new dataset, create a column named ‘Popularity’. Popularity will contain the information about number of reviews and if the book is bestseller, editorspick or a Goodreads choice. To calculate popularity points, use the formula below: <br>\n",
        "\n",
        "Popularity = reviews + reviews*isBestSeller + reviews*isEditorsPick + reviews*isGoodReadsChoice<br>\n",
        "\n",
        "Hint: To do it, you should convert the True/False statements into numerical ones. Remember, this true false values mean something, they are not nominal type of categories like blue, green, purple etc. So you should check out other converting functions.\n"
      ]
    },
    {
      "cell_type": "code",
      "execution_count": 5,
      "metadata": {
        "id": "deb14BPPK-9k"
      },
      "outputs": [],
      "source": [
        "s1_df=df[(df[\"reviews\"]>1) & (df[\"reviews\"]<201)]"
      ]
    },
    {
      "cell_type": "code",
      "execution_count": 6,
      "metadata": {
        "colab": {
          "base_uri": "https://localhost:8080/"
        },
        "id": "8x7p1DYyLY27",
        "outputId": "4f8793d6-cf64-49fa-dc8d-92f2bf4a0fbe"
      },
      "outputs": [
        {
          "name": "stdout",
          "output_type": "stream",
          "text": [
            "133102\n",
            "26597\n"
          ]
        }
      ],
      "source": [
        "print(len(df))\n",
        "print(len(s1_df))"
      ]
    },
    {
      "cell_type": "code",
      "execution_count": 49,
      "metadata": {
        "colab": {
          "base_uri": "https://localhost:8080/"
        },
        "id": "NpsNEqTwLdoi",
        "outputId": "8e45296e-aa3f-4622-a2ee-d40f749c34ef"
      },
      "outputs": [
        {
          "name": "stderr",
          "output_type": "stream",
          "text": [
            "<ipython-input-49-6c36abd4a435>:1: SettingWithCopyWarning: \n",
            "A value is trying to be set on a copy of a slice from a DataFrame.\n",
            "Try using .loc[row_indexer,col_indexer] = value instead\n",
            "\n",
            "See the caveats in the documentation: https://pandas.pydata.org/pandas-docs/stable/user_guide/indexing.html#returning-a-view-versus-a-copy\n",
            "  s1_df['Popularity'] = (s1_df['reviews'] + s1_df['reviews'] * s1_df['isBestSeller'] + s1_df['reviews'] * s1_df['isEditorsPick'] + s1_df['reviews'] * s1_df['isGoodReadsChoice'])\n"
          ]
        }
      ],
      "source": [
        "s1_df['Popularity'] = (s1_df['reviews'] + s1_df['reviews'] * s1_df['isBestSeller'] + s1_df['reviews'] * s1_df['isEditorsPick'] + s1_df['reviews'] * s1_df['isGoodReadsChoice'])\n"
      ]
    },
    {
      "cell_type": "code",
      "execution_count": 64,
      "metadata": {
        "colab": {
          "base_uri": "https://localhost:8080/"
        },
        "id": "WP_sRK9tWqVk",
        "outputId": "ff8745a4-2c94-4118-ab05-e02aaac4b382"
      },
      "outputs": [
        {
          "data": {
            "text/plain": [
              "26597"
            ]
          },
          "execution_count": 64,
          "metadata": {},
          "output_type": "execute_result"
        }
      ],
      "source": [
        "len(s1_df['Popularity'])"
      ]
    },
    {
      "cell_type": "markdown",
      "metadata": {
        "id": "yDZEASC3UHro"
      },
      "source": [
        "# QUESTION 1-B\n",
        ">Show the count, mean, std, min, 25%, 50%, 75%, max of the Popularity column."
      ]
    },
    {
      "cell_type": "code",
      "execution_count": 51,
      "metadata": {
        "colab": {
          "base_uri": "https://localhost:8080/"
        },
        "id": "Pu4iIGCxM2eh",
        "outputId": "fb20104b-c91d-4c28-9b71-c61198b9b0c6"
      },
      "outputs": [
        {
          "data": {
            "text/plain": [
              "count    26597.000000\n",
              "mean        74.197992\n",
              "std         61.514473\n",
              "min          2.000000\n",
              "25%         23.000000\n",
              "50%         59.000000\n",
              "75%        115.000000\n",
              "max        400.000000\n",
              "Name: Popularity, dtype: float64"
            ]
          },
          "execution_count": 51,
          "metadata": {},
          "output_type": "execute_result"
        }
      ],
      "source": [
        "s1_df[\"Popularity\"].describe()"
      ]
    },
    {
      "cell_type": "markdown",
      "metadata": {
        "id": "kZWbh0brUXNC"
      },
      "source": [
        "# QUESTION 1-C\n",
        ">Since you find out the mean in ‘Popularity’, create a loop to count the books which has a greater popularity rate than mean"
      ]
    },
    {
      "cell_type": "code",
      "execution_count": 65,
      "metadata": {
        "colab": {
          "base_uri": "https://localhost:8080/"
        },
        "id": "sffTFw_nUrQB",
        "outputId": "de35986e-2f90-4234-8af8-9cd662645f23"
      },
      "outputs": [
        {
          "name": "stdout",
          "output_type": "stream",
          "text": [
            "Amount of books whose popularity is greater than mean is 11078\n"
          ]
        }
      ],
      "source": [
        "a=0\n",
        "mean=s1_df[\"Popularity\"].mean()\n",
        "for i in s1_df[\"Popularity\"]:\n",
        "  if i>mean:\n",
        "    a=a+1\n",
        "print(f\"Amount of books whose popularity is greater than mean is {a}\")"
      ]
    },
    {
      "cell_type": "markdown",
      "metadata": {
        "id": "ftKkgerVXWwM"
      },
      "source": [
        "# alternative solution for 1-c"
      ]
    },
    {
      "cell_type": "code",
      "execution_count": 66,
      "metadata": {
        "colab": {
          "base_uri": "https://localhost:8080/"
        },
        "id": "jNe9ODl1XWNA",
        "outputId": "ccc13feb-edcb-4dc8-d662-ee0edfb6cd7e"
      },
      "outputs": [
        {
          "name": "stdout",
          "output_type": "stream",
          "text": [
            "11078\n"
          ]
        }
      ],
      "source": [
        "mean=s1_df[\"Popularity\"].mean()\n",
        "a=0\n",
        "for index, row in s1_df.iterrows():\n",
        "    if row['Popularity'] > mean:\n",
        "         a+= 1\n",
        "print(a)"
      ]
    },
    {
      "cell_type": "code",
      "execution_count": null,
      "metadata": {
        "id": "ps2rGdDYXwrh"
      },
      "outputs": [],
      "source": []
    },
    {
      "cell_type": "code",
      "execution_count": null,
      "metadata": {
        "id": "_ZYGFAGxXwoM"
      },
      "outputs": [],
      "source": []
    },
    {
      "cell_type": "markdown",
      "metadata": {
        "id": "zkubDAqaXxF-"
      },
      "source": [
        "# QUESTION 2\n",
        ">Create a correlation matrix to find the relationship between stars, reviews, price, Popularity, isBestSeller, isEditorsPick, isGoodReadsChoice columns."
      ]
    },
    {
      "cell_type": "code",
      "execution_count": 78,
      "metadata": {
        "id": "luZITnTnX0nn"
      },
      "outputs": [],
      "source": [
        "a=[\"stars\",\"reviews\",\"price\",\"Popularity\",\"isBestSeller\",\"isEditorsPick\",\"isGoodReadsChoice\"]\n",
        "cor=s1_df.loc[:,a].corr()"
      ]
    },
    {
      "cell_type": "code",
      "execution_count": 79,
      "metadata": {
        "colab": {
          "base_uri": "https://localhost:8080/",
          "height": 886
        },
        "id": "d0GZn8uYZj-r",
        "outputId": "cbe32e50-b25d-48ac-b56a-7f68a8142d75"
      },
      "outputs": [
        {
          "data": {
            "image/png": "[encoded data removed]",
            "text/plain": [
              "<Figure size 1000x1000 with 2 Axes>"
            ]
          },
          "metadata": {},
          "output_type": "display_data"
        }
      ],
      "source": [
        "\n",
        "fig=plt.figure(figsize=(10,10)) #size of graph\n",
        "ax=fig.add_subplot(111)\n",
        "cax=ax.matshow(cor,cmap=\"coolwarm\",vmin=-1,vmax=1) #cor and color mapping\n",
        "fig.colorbar(cax) #bar that in position right hand side\n",
        "\n",
        "#forming position of columns\n",
        "ticks=np.arange(0,len(a),1)\n",
        "ax.set_xticks(ticks)\n",
        "plt.xticks(rotation=90)\n",
        "ax.set_yticks(ticks)\n",
        "\n",
        "#putting columns in the graph\n",
        "ax.set_xticklabels(a)\n",
        "ax.set_yticklabels(a)\n",
        "plt.show()"
      ]
    },
    {
      "cell_type": "markdown",
      "metadata": {
        "id": "KSOJp7fkcEaX"
      },
      "source": [
        "Result of correlation map<br>\n",
        "1.Reviews and popularity have a positive relationship each other. When popularity increases, reviews increases naturally.<br>\n",
        "2.Popularity has a relationship with bestseller and editorsPick. But it is not much strong.<br>\n",
        "3.isGoodReadsChoice and stars almost 0 correlation exclude themselves. It means that they have a weak relationship with others."
      ]
    },
    {
      "cell_type": "code",
      "execution_count": null,
      "metadata": {
        "id": "zGxQFPyXZudN"
      },
      "outputs": [],
      "source": []
    }
  ],
  "metadata": {
    "colab": {
      "provenance": []
    },
    "kernelspec": {
      "display_name": "Python 3",
      "name": "python3"
    },
    "language_info": {
      "name": "python"
    }
  },
  "nbformat": 4,
  "nbformat_minor": 0
}
